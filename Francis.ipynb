{
 "cells": [
  {
   "cell_type": "markdown",
   "id": "cdbe5dfa-159d-40ec-9815-630d1cfead47",
   "metadata": {},
   "source": [
    "My Jupiter Notebook on IBM Watson Studio"
   ]
  },
  {
   "cell_type": "markdown",
   "id": "cc6893ae-37a7-4a01-9fc9-2ba7acb9fcd8",
   "metadata": {},
   "source": [
    "Eze Francis Ikechukwu\n",
    "Student"
   ]
  },
  {
   "cell_type": "markdown",
   "id": "9ce66b57-7e79-4a30-a281-3de46640a36e",
   "metadata": {},
   "source": [
    "I am interested in data science because it will enable to become a software analyst in the future"
   ]
  },
  {
   "cell_type": "markdown",
   "id": "9b92db88-d8d2-41b9-8ec3-96d884dc82e6",
   "metadata": {},
   "source": [
    "# print the addition of two numbers"
   ]
  },
  {
   "cell_type": "code",
   "execution_count": 1,
   "id": "b38a22f3-0c60-4e4c-aa18-a4f2b2b3c698",
   "metadata": {},
   "outputs": [
    {
     "name": "stdout",
     "output_type": "stream",
     "text": [
      "3\n"
     ]
    }
   ],
   "source": [
    "one = 1\n",
    "two = 2\n",
    "print(one+two)"
   ]
  },
  {
   "cell_type": "markdown",
   "id": "7104cb4b-fbde-4ea8-800c-422f06cbfbfd",
   "metadata": {},
   "source": [
    "\n",
    "•\tMy name is Eze Francis Ikechukwu\n",
    "•\tI am a student\n",
    "•\tI study in the Federal University of Technology, Akure, Nigeria\n",
    "\n"
   ]
  }
 ],
 "metadata": {
  "kernelspec": {
   "display_name": "Python",
   "language": "python",
   "name": "conda-env-python-py"
  },
  "language_info": {
   "codemirror_mode": {
    "name": "ipython",
    "version": 3
   },
   "file_extension": ".py",
   "mimetype": "text/x-python",
   "name": "python",
   "nbconvert_exporter": "python",
   "pygments_lexer": "ipython3",
   "version": "3.7.12"
  }
 },
 "nbformat": 4,
 "nbformat_minor": 5
}
